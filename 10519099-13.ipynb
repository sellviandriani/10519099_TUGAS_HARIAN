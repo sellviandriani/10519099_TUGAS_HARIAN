{
 "cells": [
  {
   "cell_type": "code",
   "execution_count": 1,
   "id": "5c4a7f43",
   "metadata": {},
   "outputs": [],
   "source": [
    "import nltk\n",
    "from nltk.tokenize import word_tokenize"
   ]
  },
  {
   "cell_type": "code",
   "execution_count": 2,
   "id": "a40ff314",
   "metadata": {},
   "outputs": [
    {
     "name": "stdout",
     "output_type": "stream",
     "text": [
      "['Halo', 'apa', 'kabar', '?']\n"
     ]
    }
   ],
   "source": [
    "#token\n",
    "text=\"Halo apa kabar?\"\n",
    "tokenize_word=word_tokenize(text)\n",
    "print(tokenize_word)"
   ]
  },
  {
   "cell_type": "code",
   "execution_count": 3,
   "id": "b223bf50",
   "metadata": {},
   "outputs": [
    {
     "data": {
      "text/plain": [
       "[('Halo', 'apa'), ('apa', 'kabar'), ('kabar', '?')]"
      ]
     },
     "execution_count": 3,
     "metadata": {},
     "output_type": "execute_result"
    }
   ],
   "source": [
    "#bigram\n",
    "list(nltk.bigrams(tokenize_word))"
   ]
  },
  {
   "cell_type": "code",
   "execution_count": 4,
   "id": "c5dba8ed",
   "metadata": {},
   "outputs": [
    {
     "data": {
      "text/plain": [
       "[('Halo', 'apa', 'kabar'), ('apa', 'kabar', '?')]"
      ]
     },
     "execution_count": 4,
     "metadata": {},
     "output_type": "execute_result"
    }
   ],
   "source": [
    "#trigram\n",
    "list(nltk.trigrams(tokenize_word))"
   ]
  },
  {
   "cell_type": "code",
   "execution_count": 5,
   "id": "d7cc299a",
   "metadata": {},
   "outputs": [
    {
     "data": {
      "text/plain": [
       "[('Halo', 'apa', 'kabar', '?')]"
      ]
     },
     "execution_count": 5,
     "metadata": {},
     "output_type": "execute_result"
    }
   ],
   "source": [
    "#ngram\n",
    "list(nltk.ngrams(tokenize_word,4))"
   ]
  },
  {
   "cell_type": "code",
   "execution_count": 6,
   "id": "f8a07047",
   "metadata": {},
   "outputs": [
    {
     "name": "stdout",
     "output_type": "stream",
     "text": [
      "<FreqDist with 4 samples and 4 outcomes>\n"
     ]
    },
    {
     "data": {
      "text/plain": [
       "FreqDist({'Halo': 1, 'apa': 1, 'kabar': 1, '?': 1})"
      ]
     },
     "execution_count": 6,
     "metadata": {},
     "output_type": "execute_result"
    }
   ],
   "source": [
    "from nltk.probability import FreqDist\n",
    "fDist=FreqDist(tokenize_word)\n",
    "print(fDist)\n",
    "fDist"
   ]
  },
  {
   "cell_type": "code",
   "execution_count": 7,
   "id": "7e6fa2ee",
   "metadata": {},
   "outputs": [
    {
     "data": {
      "text/plain": [
       "[('Halo', 1), ('apa', 1)]"
      ]
     },
     "execution_count": 7,
     "metadata": {},
     "output_type": "execute_result"
    }
   ],
   "source": [
    "fDist.most_common(2)"
   ]
  },
  {
   "cell_type": "code",
   "execution_count": 8,
   "id": "82ee2efc",
   "metadata": {},
   "outputs": [
    {
     "data": {
      "image/png": "[encoded data removed]",
      "text/plain": [
       "<Figure size 640x480 with 1 Axes>"
      ]
     },
     "metadata": {},
     "output_type": "display_data"
    }
   ],
   "source": [
    "import matplotlib.pyplot as plt\n",
    "fDist.plot(20, cumulative=False)\n",
    "plt.show()"
   ]
  },
  {
   "cell_type": "code",
   "execution_count": 9,
   "id": "fd7e63d1",
   "metadata": {},
   "outputs": [
    {
     "data": {
      "text/plain": [
       "['guido@pyton.org', 'guido@google.com']"
      ]
     },
     "execution_count": 9,
     "metadata": {},
     "output_type": "execute_result"
    }
   ],
   "source": [
    "#entity masking\n",
    "import re\n",
    "email=re.compile('\\w+@\\w+\\.[a-z]{3}')\n",
    "text=\"To email Guido, try guido@pyton.org or the older address guido@google.com\"\n",
    "email.findall(text)"
   ]
  },
  {
   "cell_type": "code",
   "execution_count": 10,
   "id": "42957475",
   "metadata": {},
   "outputs": [
    {
     "data": {
      "text/plain": [
       "'To email Guido, try _email_ or the older address _email_'"
      ]
     },
     "execution_count": 10,
     "metadata": {},
     "output_type": "execute_result"
    }
   ],
   "source": [
    "text_mask=email.sub('_email_', text)\n",
    "text_mask"
   ]
  },
  {
   "cell_type": "code",
   "execution_count": 11,
   "id": "d409ea5f",
   "metadata": {},
   "outputs": [
    {
     "name": "stdout",
     "output_type": "stream",
     "text": [
      "{'langit': 1, 'malam': 2, 'pada': 3, 'yang': 4, 'cantik': 0}\n"
     ]
    }
   ],
   "source": [
    "#Tokenize\n",
    "from sklearn.feature_extraction.text import CountVectorizer\n",
    "#lost of ttext documents\n",
    "text=[\"Langit malam pada malam yang cantik.\"]\n",
    "#create the transform\n",
    "vectorizer=CountVectorizer()\n",
    "#tokenize and build vocab\n",
    "vectorizer.fit(text)\n",
    "#summarize\n",
    "print(vectorizer.vocabulary_)"
   ]
  },
  {
   "cell_type": "code",
   "execution_count": 12,
   "id": "18cd18cb",
   "metadata": {},
   "outputs": [
    {
     "name": "stdout",
     "output_type": "stream",
     "text": [
      "(1, 5)\n",
      "<class 'scipy.sparse._csr.csr_matrix'>\n",
      "[[1 1 2 1 1]]\n"
     ]
    }
   ],
   "source": [
    "vector=vectorizer.transform(text)\n",
    "#summarize encoded vector\n",
    "print(vector.shape)\n",
    "print(type(vector))\n",
    "print(vector.toarray())"
   ]
  },
  {
   "cell_type": "code",
   "execution_count": null,
   "id": "1333ace6",
   "metadata": {},
   "outputs": [],
   "source": []
  },
  {
   "cell_type": "code",
   "execution_count": null,
   "id": "86c94b9a",
   "metadata": {},
   "outputs": [],
   "source": []
  }
 ],
 "metadata": {
  "kernelspec": {
   "display_name": "Python 3 (ipykernel)",
   "language": "python",
   "name": "python3"
  },
  "language_info": {
   "codemirror_mode": {
    "name": "ipython",
    "version": 3
   },
   "file_extension": ".py",
   "mimetype": "text/x-python",
   "name": "python",
   "nbconvert_exporter": "python",
   "pygments_lexer": "ipython3",
   "version": "3.9.13"
  }
 },
 "nbformat": 4,
 "nbformat_minor": 5
}
